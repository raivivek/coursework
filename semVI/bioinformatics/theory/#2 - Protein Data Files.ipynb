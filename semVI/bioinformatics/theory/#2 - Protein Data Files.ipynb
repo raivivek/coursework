{
 "metadata": {
  "name": ""
 },
 "nbformat": 3,
 "nbformat_minor": 0,
 "worksheets": [
  {
   "cells": [
    {
     "cell_type": "code",
     "collapsed": false,
     "input": [
      "from IPython.display import Image, HTML, display_html, display_javascript, display_png, display_pretty, display_jpeg"
     ],
     "language": "python",
     "metadata": {},
     "outputs": [],
     "prompt_number": 3
    },
    {
     "cell_type": "markdown",
     "metadata": {},
     "source": [
      "The file format initially used by the PDB was called the PDB file format. This original format was restricted by the width of computer punch cards to 80 characters per line. Around 1996, the \"macromolecular Crystallographic Information file\" format, mmCIF, started to be phased in. An XML version of this format, called PDBML, was described in 2005. The structure files can be downloaded in any of these three formats. In fact, individual files are easily downloaded into graphics packages using web addresses:\n",
      "\n",
      "* For PDB format files, use, e.g., http://www.pdb.org/pdb/files/4hhb.pdb.gz or http://pdbe.org/download/4hhb\n",
      "* For PDBML (XML) files, use, e.g., http://www.pdb.org/pdb/files/4hhb.xml.gz or http://pdbe.org/pdbml/4hhb\n",
      "\n",
      "The **4hhb** is the PDB identifier. Each structure published in PDB receives a four-character alphanumeric identifier, its PDB ID. (This cannot be used as an identifier for biomolecules, because often several structures for the same molecule\u2014in different environments or conformations\u2014are contained in PDB with different PDB IDs.) The exact format of the PDB file format is contained in the latest version 3.0 maintained by the wwPDB consortium.\n",
      "\n",
      "# Example\n",
      "PDB format consists of lines of information in a text file. Each line of information in the file is called a *record*. A PDB file generally contains several different types of records, arranged in a specific order to describe a structure. A typical example of a PDB file is shown below. The description of the keywords follows in the next section. "
     ]
    },
    {
     "cell_type": "markdown",
     "metadata": {},
     "source": [
      "````\n",
      "HEADER    EXTRACELLULAR MATRIX                    22-JAN-98   1A3I\n",
      "TITLE     X-RAY CRYSTALLOGRAPHIC DETERMINATION OF A COLLAGEN-LIKE\n",
      "TITLE    2 PEPTIDE WITH THE REPEATING SEQUENCE (PRO-PRO-GLY)\n",
      "...\n",
      "EXPDTA    X-RAY DIFFRACTION\n",
      "AUTHOR    R.Z.KRAMER,L.VITAGLIANO,J.BELLA,R.BERISIO,L.MAZZARELLA,\n",
      "AUTHOR   2 B.BRODSKY,A.ZAGARI,H.M.BERMAN\n",
      "...\n",
      "REMARK 350 BIOMOLECULE: 1\n",
      "REMARK 350 APPLY THE FOLLOWING TO CHAINS: A, B, C\n",
      "REMARK 350   BIOMT1   1  1.000000  0.000000  0.000000        0.00000\n",
      "REMARK 350   BIOMT2   1  0.000000  1.000000  0.000000        0.00000\n",
      "...\n",
      "SEQRES   1 A    9  PRO PRO GLY PRO PRO GLY PRO PRO GLY\n",
      "SEQRES   1 B    6  PRO PRO GLY PRO PRO GLY\n",
      "SEQRES   1 C    6  PRO PRO GLY PRO PRO GLY\n",
      "...\n",
      "ATOM      1  N   PRO A   1       8.316  21.206  21.530  1.00 17.44           N\n",
      "ATOM      2  CA  PRO A   1       7.608  20.729  20.336  1.00 17.44           C\n",
      "ATOM      3  C   PRO A   1       8.487  20.707  19.092  1.00 17.44           C\n",
      "ATOM      4  O   PRO A   1       9.466  21.457  19.005  1.00 17.44           O\n",
      "ATOM      5  CB  PRO A   1       6.460  21.723  20.211  1.00 22.26           C\n",
      "...\n",
      "HETATM  130  C   ACY   401       3.682  22.541  11.236  1.00 21.19           C\n",
      "HETATM  131  O   ACY   401       2.807  23.097  10.553  1.00 21.19           O\n",
      "HETATM  132  OXT ACY   401       4.306  23.101  12.291  1.00 21.19           O\n",
      "...\n",
      "````"
     ]
    },
    {
     "cell_type": "markdown",
     "metadata": {},
     "source": [
      "# Description\n",
      "### HEADER, TITLE AND AUTHOR records\n",
      "Provides information about the researchers who defined the structure; numerous other types of records are available to provide other types of information.\n",
      "### REMARK records \n",
      "can contain free-form annotation, but they also accommodate standardized information; for example, the REMARK 350 BIOMT records describe how to compute the coordinates of the experimentally observed multimer from those of the explicitly specified ones of a single repeating unit.\n",
      "### SEQRES records \n",
      "give the sequences of the three peptide chains (named A, B and C), which are very short in this example but usually span multiple lines.\n",
      "### ATOM records \n",
      "describe the coordinates of the atoms that are part of standard residues (proteins and amino acids). For example, the first ATOM line above describes the alpha-N atom of the first residue of peptide chain A, which is a proline residue; the first three floating point numbers are its x, y and z coordinates and are in units of \u00c5ngstr\u00f6ms. The next three columns are the occupancy,[1] temperature factor,[1] and the element name, respectively. The record line contains the following information :\n",
      "\n",
      "``` \n",
      "ATOM     1          N         PRO          A                1       8.316  21.206  21.530  1.00      17.44              N\n",
      "\n",
      "Keyword  Serial_No. Atom_Name Residue_Name Chain_Identifier Residue_Sequence_No    X Y Z   Occupancy Temperature_Factor Element_Symbol\n",
      "\n",
      "The atom name is the third item in the record. Notice that the first one or two characters of the atom name consists of the chemical symbol for the atom type. All the atom names beginning with C are carbon atoms; N indicates a nitrogen and O indicates oxygen. In amino acid residues, the next character is the remoteness indicator code, which is transliterated according to:\n",
      "\n",
      "\u03b1\tA\n",
      "\u03b2\tB\n",
      "\u03b3\tG\n",
      "\u03b4\tD\n",
      "\u03b5\tE\n",
      "\u03b6\tZ\n",
      "\u03b7\tH\n",
      "\n",
      "There are few other options which are often not present or not shown. But anyhow, the spacing between the data fields is important and the missing values are left blank.\n",
      "```"
     ]
    },
    {
     "cell_type": "markdown",
     "metadata": {},
     "source": [
      "### HETATM records \n",
      "atomic coordinate record containing the X,Y,Z orthogonal \u00c5 coordinates for atoms in nonstandard residues. Nonstandard residues include inhibitors, cofactors, ions, and solvent. The only functional difference from ATOM records is that HETATM residues are by default not connected to other residues. Note that water residues should be in HETATM records. The record sequence for HETATM is same as that of ATOM entries.\n",
      "\n"
     ]
    },
    {
     "cell_type": "markdown",
     "metadata": {},
     "source": [
      "### MODEL records\n",
      "to indicate multiple molecules in a single file. This was initially created to archive coordinate sets that include several different models of the same structure, like the structural ensembles obtained in NMR analysis. When you view these files, you will see dozens of similar molecules all superimposed. The MODEL keyword is now also used in biological assembly files to separate the many symmetrical copies of the molecule that are generated from the asymmetric unit.\n",
      "\n",
      "For more details about biological assemblies, please see the chapter understanding the structure."
     ]
    },
    {
     "cell_type": "markdown",
     "metadata": {},
     "source": [
      "### TER\trecords\n",
      "indicates the end of a chain of residues. For example, a hemoglobin molecule consists of four subunit chains that are not connected. TER indicates the end of a chain and prevents the display of a connection to the next chain.\n",
      "\n",
      "````\n",
      " TER     247             THR            A                  29\n",
      "\"TER\"    Serial_Number   Residue_Name   Chain_Identifier   Residue_Sequence_No\n",
      "````\n",
      "\n",
      "For example, A more complicated protein, hemoglobin (entry 3hhb), consists of four amino acid chains, each with an associated heme group. There are two alpha chains (identifiers A and C) and two beta chains (identifiers B and D). At the end of chain A, the record for heme group appears:\n",
      "```\n",
      "ATOM   1058  N   ARG A 141      -6.466  12.036 -10.348  7.00 19.11           N  \n",
      "ATOM   1059  CA  ARG A 141      -7.922  12.248 -10.253  6.00 26.80           C  \n",
      "ATOM   1060  C   ARG A 141      -8.119  13.499  -9.393  6.00 28.93           C  \n",
      "ATOM   1061  O   ARG A 141      -7.112  13.967  -8.853  8.00 28.68           O  \n",
      "ATOM   1062  CB  ARG A 141      -8.639  11.005  -9.687  6.00 24.11           C  \n",
      "ATOM   1063  CG  ARG A 141      -8.153  10.551  -8.308  6.00 19.20           C  \n",
      "ATOM   1064  CD  ARG A 141      -8.914   9.319  -7.796  6.00 21.53           C  \n",
      "ATOM   1065  NE  ARG A 141      -8.517   9.076  -6.403  7.00 20.93           N  \n",
      "ATOM   1066  CZ  ARG A 141      -9.142   8.234  -5.593  6.00 23.56           C  \n",
      "ATOM   1067  NH1 ARG A 141     -10.150   7.487  -6.019  7.00 19.04           N  \n",
      "ATOM   1068  NH2 ARG A 141      -8.725   8.129  -4.343  7.00 25.11           N  \n",
      "ATOM   1069  OXT ARG A 141      -9.233  14.024  -9.296  8.00 40.35           O  \n",
      "TER    1070      ARG A 141                                                      \n",
      "HETATM 1071 FE   HEM A   1       8.128   7.371 -15.022 24.00 16.74          FE  \n",
      "HETATM 1072  CHA HEM A   1       8.617   7.879 -18.361  6.00 17.74           C  \n",
      "HETATM 1073  CHB HEM A   1      10.356  10.005 -14.319  6.00 18.92           C  \n",
      "HETATM 1074  CHC HEM A   1       8.307   6.456 -11.669  6.00 11.00           C  \n",
      "HETATM 1075  CHD HEM A   1       6.928   4.145 -15.725  6.00 13.25           C\n",
      "````\n",
      "\n",
      "The last residue in the alpha chain is an **ARG** (arginine). Again, the extra oxygen atom **OXT** appears in the terminal carboxyl group. The TER record indicates the end of the peptide chain. *It is important to have TER records at the end of peptide chains so a bond is not drawn from the end of one chain to the start of another.*\n",
      "\n",
      "In the example above, the TER record is correct and should be present, but the molecule chain would still be terminated at that point even without a TER record, _because HETATM residues are not connected to other residues or to each other._ The heme group is a single residue made up of HETATM records.\n"
     ]
    },
    {
     "cell_type": "markdown",
     "metadata": {},
     "source": [
      "### HELIX records\n",
      "indicates the location and type (right-handed alpha, etc.) of helices. One record per helix.\n",
      "### SHEET records\n",
      "indicates the location, sense (anti-parallel, etc.) and registration with respect to the previous strand in the sheet (if any) of each strand in the model. One record per strand."
     ]
    },
    {
     "cell_type": "markdown",
     "metadata": {},
     "source": [
      "## Common Errors\n",
      "Although the data files are highly curated and made sure that they are free of any errors, few inconsistencies always slip in or simply aren't available due to the nature of experiment. The latter one, though not an error, still provides only a workable information to the user. There are many such files being deposited in Protein Database Bank on regular basis.\n",
      "\n",
      "### Spurious bond lengths\n",
      "A couple of common errors in program-generated PDB files result in the display of very long bonds between residues:\n",
      "\n",
      "* **Missing TER cards** - Either a TER card or a change in the chain ID is needed to mark the end of a chain.\n",
      "* **Improper use of ATOM records instead of HETATM records** - HETATM records should be employed for compounds that do not form chains, such as water or heme. The first six columns of the ATOM record should be changed to HETATM so that the remaining columns stay aligned correctly."
     ]
    },
    {
     "cell_type": "markdown",
     "metadata": {},
     "source": [
      "### Misaligned Atom Names\n",
      "Incorrectly aligned atom names in PDB records can cause problems. The PDB files, since based on punch cards format are very sensitive to the separation between different data fields and may cause errors when formatted incorrectly. Although many modern softwares automatically handle most ofsuch inconsistencies."
     ]
    },
    {
     "cell_type": "markdown",
     "metadata": {},
     "source": [
      "### Duplicate Atom Names\n",
      "One possible editing mistake is the failure to uniquely name all atoms within a given residue. In the following example, two atoms in the same residue are named CA:\n",
      "````\n",
      "ATOM    185  N   VAL A  23      13.455  17.883  10.517  1.00  7.00           N\n",
      "ATOM    186  CA  VAL A  23      12.574  17.403  11.589  1.00  7.00           C\n",
      "ATOM    187  C   VAL A  23      11.283  18.205  11.729  1.00  7.00           C\n",
      "ATOM    188  O   VAL A  23      10.233  17.600  12.052  1.00  7.00           O\n",
      "ATOM    189  CA  VAL A  23      13.339  17.278  12.906  1.00 10.00           C\n",
      "ATOM    190  CG1 VAL A  23      12.441  17.004  14.108  1.00 13.00           C\n",
      "ATOM    191  CG2 VAL A  23      14.455  16.248  12.794  1.00 13.00           C\n",
      "ATOM    192  N   GLN A  24      11.255  19.253  10.941  1.00  8.00           N\n",
      "ATOM    193  CA  GLN A  24      10.082  20.114  10.818  1.00  8.00           C\n",
      "ATOM    194  C   GLN A  24       9.158  19.638   9.692  1.00  8.00           C\n",
      "````\n",
      "Depending on the display program, the residue may be shown with incorrect connectivity, or it may become evident only upon labeling that the residue is missing a CB atom."
     ]
    },
    {
     "cell_type": "markdown",
     "metadata": {},
     "source": [
      "### Residues Out of Sequence\n",
      "In the following example, the second residue in the file is erroneously numbered residue 5. Many display programs will show this residue as connected to residues 1 and 3. If this residue was meant to be connected to residues 4 and 6 instead, it should appear between those residues in the PDB file.\n",
      "```\n",
      "ATOM      1  N   HIS A   1      49.668  24.248  10.436  1.00 25.00           N  \n",
      "ATOM      2  CA  HIS A   1      50.197  25.578  10.784  1.00 16.00           C  \n",
      "ATOM      3  C   HIS A   1      49.169  26.701  10.917  1.00 16.00           C  \n",
      "ATOM      4  O   HIS A   1      48.241  26.524  11.749  1.00 16.00           O  \n",
      "ATOM      5  CB  HIS A   1      51.312  26.048   9.843  1.00 16.00           C  \n",
      "ATOM      6  CG  HIS A   1      50.958  26.068   8.340  1.00 16.00           C  \n",
      "ATOM      7  ND1 HIS A   1      49.636  26.144   7.860  1.00 16.00           N  \n",
      "ATOM      8  CD2 HIS A   1      51.797  26.043   7.286  1.00 16.00           C  \n",
      "ATOM      9  CE1 HIS A   1      49.691  26.152   6.454  1.00 17.00           C  \n",
      "ATOM     10  NE2 HIS A   1      51.046  26.090   6.098  1.00 17.00           N  \n",
      "ATOM     11  N   SER A   5      49.788  27.850  10.784  1.00 16.00           N  \n",
      "ATOM     12  CA  SER A   5      49.138  29.147  10.620  1.00 15.00           C  \n",
      "ATOM     13  C   SER A   5      47.713  29.006  10.110  1.00 15.00           C  \n",
      "ATOM     14  O   SER A   5      46.740  29.251  10.864  1.00 15.00           O  \n",
      "ATOM     15  CB  SER A   5      49.875  29.930   9.569  1.00 16.00           C  \n",
      "ATOM     16  OG  SER A   5      49.145  31.057   9.176  1.00 19.00           O  \n",
      "ATOM     17  N   GLN A   3      47.620  28.367   8.973  1.00 15.00           N  \n",
      "ATOM     18  CA  GLN A   3      46.287  28.193   8.308  1.00 14.00           C \n",
      "```"
     ]
    },
    {
     "cell_type": "markdown",
     "metadata": {},
     "source": [
      "# References\n",
      "[1] : http://www.rcsb.org/pdb/101/static101.do?p=education_discussion/Looking-at-Structures/coordinates.html\n",
      "\n",
      "[2] : http://www.cgl.ucsf.edu/chimera/docs/UsersGuide/tutorials/pdbintro.html#note4"
     ]
    }
   ],
   "metadata": {}
  }
 ]
}