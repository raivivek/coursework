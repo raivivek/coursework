{
 "metadata": {
  "name": ""
 },
 "nbformat": 3,
 "nbformat_minor": 0,
 "worksheets": [
  {
   "cells": [
    {
     "cell_type": "markdown",
     "metadata": {},
     "source": [
      "While PDB file format is the _de facto_ standard for storing strutural information, there are lot of subtelities that make the parsing a really difficult manual job. For this, the PDB module of the [BioPython](https://github.com/biopython) package is a very powerful alternative that allows Python users to access the information stored in PDB files as sophisticated, hierarchical data structures. The information may be modified and saved back to new PDB files. BioPython makes it easy to renumber the residues in a PDB, change the name of a residue, selectively remove heteroatoms, etc.\n",
      "\n",
      "Besides this, there is an in-development library called [scikit-bio](https://github.com/scikit-bio), which again is being developed in Python language and servs similar functionality.\n",
      "\n",
      "# Reading PDB Files"
     ]
    },
    {
     "cell_type": "code",
     "collapsed": false,
     "input": [
      "from Bio.PDB.PDBParser import PDBParser\n",
      "\n",
      "# PERMISSIVE flag when set to True suppreses a number of common warnings related to the PDB file.\n",
      "\n",
      "parser = PDBParser(PERMISSIVE = True)\n",
      "structure = parser.get_structure('3hhb', 'files/3hhb.ent')\n",
      "\n",
      "# The structure object has an attribute called header which is a Python dictionary that maps header records to their values.\n",
      "# The available keys are name, head, deposition_date, release_date, structure_method, resolution, structure_reference \n",
      "# (which maps to a list of references), journal_reference, author, and compound (which maps to a dictionary with various \n",
      "# information about the crystallized compound).\n",
      "\n",
      "header = structure.header\n",
      "\n",
      "print(\"{} \\n {} \\n {} \\n {}\".format(header['name'], header['compound'], header['author'], header['resolution']))"
     ],
     "language": "python",
     "metadata": {},
     "outputs": [
      {
       "output_type": "stream",
       "stream": "stdout",
       "text": [
        " the crystal structure of human deoxyhaemoglobin at 1.74 angstroms resolution \n",
        " {'1': {'molecule': 'hemoglobin (deoxy) (alpha chain)', 'misc': '', 'chain': 'a, c'}, '2': {'molecule': 'hemoglobin (deoxy) (beta chain)', 'misc': '', 'chain': 'b, d'}} \n",
        " G.Fermi,M.F.Perutz \n",
        " 1.74\n"
       ]
      }
     ],
     "prompt_number": 152
    },
    {
     "cell_type": "code",
     "collapsed": false,
     "input": [
      "\"\"\" Returns all available methods for the Structure Class Object. \n",
      "The overall strucutre follows a SMRCA architecture -  Structure -> Model -> Chain -> Residue -> Atom\n",
      "All of these are subclasses of Entity base class.\n",
      "\"\"\"\n",
      "dir(structure)"
     ],
     "language": "python",
     "metadata": {},
     "outputs": [
      {
       "metadata": {},
       "output_type": "pyout",
       "prompt_number": 37,
       "text": [
        "['__class__',\n",
        " '__contains__',\n",
        " '__delattr__',\n",
        " '__delitem__',\n",
        " '__dict__',\n",
        " '__dir__',\n",
        " '__doc__',\n",
        " '__eq__',\n",
        " '__format__',\n",
        " '__ge__',\n",
        " '__getattribute__',\n",
        " '__getitem__',\n",
        " '__gt__',\n",
        " '__hash__',\n",
        " '__init__',\n",
        " '__iter__',\n",
        " '__le__',\n",
        " '__len__',\n",
        " '__lt__',\n",
        " '__module__',\n",
        " '__ne__',\n",
        " '__new__',\n",
        " '__reduce__',\n",
        " '__reduce_ex__',\n",
        " '__repr__',\n",
        " '__setattr__',\n",
        " '__sizeof__',\n",
        " '__str__',\n",
        " '__subclasshook__',\n",
        " '__weakref__',\n",
        " '_sort',\n",
        " 'add',\n",
        " 'child_dict',\n",
        " 'child_list',\n",
        " 'copy',\n",
        " 'detach_child',\n",
        " 'detach_parent',\n",
        " 'full_id',\n",
        " 'get_atoms',\n",
        " 'get_chains',\n",
        " 'get_full_id',\n",
        " 'get_id',\n",
        " 'get_iterator',\n",
        " 'get_level',\n",
        " 'get_list',\n",
        " 'get_parent',\n",
        " 'get_residues',\n",
        " 'has_id',\n",
        " 'header',\n",
        " 'id',\n",
        " 'insert',\n",
        " 'level',\n",
        " 'parent',\n",
        " 'set_parent',\n",
        " 'transform',\n",
        " 'xtra']"
       ]
      }
     ],
     "prompt_number": 37
    },
    {
     "cell_type": "markdown",
     "metadata": {},
     "source": [
      "### Hierarchy\n",
      "The following is an example of hierarchy in Strucutre class which very closely models the structure of actual PDB file. Each object in the hierarchy is identified by an ID. Here is a crystallographic structure example, the **glutamyl-tRNA synthetase** from _T. thermophilus_ complexed with its tRNA (PDBID: 1G59). There is only one model (as opposed to NMR structures). The structure contains two proteins, two nucleic acids and 283 water molecules (5 different chains). The chains contain either amino acids, nucleotides or water \"residues\" (groups would be a more appropriate term). Each residue contains one or more atoms.\n",
      "\n",
      "```\n",
      "Structure['1g59']\n",
      "  |\n",
      "  +---- Model[0]\n",
      "          |\n",
      "          +---- Chain['A']\n",
      "          |       |\n",
      "          |       +---- Residue[' ', 1, ' ']\n",
      "          |       |       |\n",
      "          |       |       +---- Atom['N']\n",
      "          |       |       |\n",
      "          |       |       +---- [...]\n",
      "          |       |       |\n",
      "          |       |       +---- Atom['CE']\n",
      "          |       |\n",
      "          |       +---- [...]\n",
      "          |       |\n",
      "          |       +---- Residue[' ', 468, ' '] [...]\n",
      "          |\n",
      "          +---- Chain['B'] [...]\n",
      "          |\n",
      "          +---- Chain['C'] [...]\n",
      "          |\n",
      "          +---- Chain['D'] [...]\n",
      "          |\n",
      "          +---- Chain[' ']\n",
      "                  |\n",
      "                  +---- Residue['W', 1, ' ']\n",
      "                  |       |\n",
      "                  |       +---- Atom['O']\n",
      "                  |\n",
      "                  +---- [...]\n",
      "                  |\n",
      "                  +---- Residue['W', 283, ' '] [...]\n",
      "```\n"
     ]
    },
    {
     "cell_type": "code",
     "collapsed": false,
     "input": [
      "from Bio.PDB.PDBParser import PDBParser\n",
      "\n",
      "parser = PDBParser(PERMISSIVE = True)\n",
      "structure = parser.get_structure('3hhb', 'files/3hhb.ent')\n",
      "\n",
      "model = structure[0]\n",
      "# The methods available with the model structure can be seen by dir builtin\n",
      "# print(dir(model))\n",
      "\n",
      "# List all the chains available in the structure.\n",
      "for item in model:\n",
      "    print(item)\n",
      "print()\n",
      "\n",
      "# Accessing a particular chain in the model\n",
      "chain = model['A']\n",
      "\n",
      "# Lists all the methods available with the chain structure.\n",
      "print(dir(chain))\n",
      "print('\\nNumber of residues in chain {} : {}'.format('A',len(chain)))\n",
      "\n",
      "# Residues in chains are accessed by a tuple of three paramters - The first value is the \n",
      "# HETERO code of the residue (a string), the second is its number (an integer), the \n",
      "# third its insertion code (a string). For amino acid molecules, the HETERO is usually a space.\n",
      "first_aa = chain[(' ', 1, ' ')]\n",
      "print('\\n{}'.format(first_aa))\n",
      "\n",
      "# Viewing information about water molecules\n",
      "first_water = chain[('W', 150, ' ')]\n",
      "print('\\n{}\\n'.format(first_water,))\n",
      "\n",
      "# The information about atoms can be accessed from residues using the name of the ATOM as \n",
      "# seen in the PDB file e.g, CE, CA, N etc.,\n",
      "\n",
      "# Lists all the atoms present in the first residue.\n",
      "for atom in first_aa:\n",
      "    print(atom)"
     ],
     "language": "python",
     "metadata": {},
     "outputs": [
      {
       "output_type": "stream",
       "stream": "stdout",
       "text": [
        "<Chain id=A>\n",
        "<Chain id=B>\n",
        "<Chain id=C>\n",
        "<Chain id=D>\n",
        "\n",
        "['__class__', '__contains__', '__delattr__', '__delitem__', '__dict__', '__dir__', '__doc__', '__eq__', '__format__', '__ge__', '__getattribute__', '__getitem__', '__gt__', '__hash__', '__init__', '__iter__', '__le__', '__len__', '__lt__', '__module__', '__ne__', '__new__', '__reduce__', '__reduce_ex__', '__repr__', '__setattr__', '__sizeof__', '__str__', '__subclasshook__', '__weakref__', '_sort', '_translate_id', 'add', 'child_dict', 'child_list', 'copy', 'detach_child', 'detach_parent', 'full_id', 'get_atoms', 'get_full_id', 'get_id', 'get_iterator', 'get_level', 'get_list', 'get_parent', 'get_residues', 'get_unpacked_list', 'has_id', 'id', 'insert', 'level', 'parent', 'set_parent', 'transform', 'xtra']\n",
        "\n",
        "Number of residues in chain A : 172\n",
        "\n",
        "<Residue VAL het=  resseq=1 icode= >\n",
        "\n",
        "<Residue HOH het=W resseq=150 icode= >\n",
        "\n",
        "<Atom N>\n",
        "<Atom CA>\n",
        "<Atom C>\n",
        "<Atom O>\n",
        "<Atom CB>\n",
        "<Atom CG1>\n",
        "<Atom CG2>\n"
       ]
      }
     ],
     "prompt_number": 130
    },
    {
     "cell_type": "markdown",
     "metadata": {},
     "source": [
      "### Digging further information\n",
      "The hierarchy can be further explored with the help of methods exposed by each class and data can be accordingly modified or reused."
     ]
    },
    {
     "cell_type": "code",
     "collapsed": false,
     "input": [
      "atom = first_aa['N']\n",
      "print(dir(atom))"
     ],
     "language": "python",
     "metadata": {},
     "outputs": [
      {
       "output_type": "stream",
       "stream": "stdout",
       "text": [
        "['__class__', '__delattr__', '__dict__', '__dir__', '__doc__', '__eq__', '__format__', '__ge__', '__getattribute__', '__gt__', '__hash__', '__init__', '__le__', '__lt__', '__module__', '__ne__', '__new__', '__reduce__', '__reduce_ex__', '__repr__', '__setattr__', '__sizeof__', '__str__', '__sub__', '__subclasshook__', '__weakref__', '_assign_atom_mass', '_assign_element', 'altloc', 'anisou_array', 'bfactor', 'coord', 'copy', 'detach_parent', 'disordered_flag', 'element', 'flag_disorder', 'full_id', 'fullname', 'get_altloc', 'get_anisou', 'get_bfactor', 'get_coord', 'get_full_id', 'get_fullname', 'get_id', 'get_level', 'get_name', 'get_occupancy', 'get_parent', 'get_serial_number', 'get_sigatm', 'get_siguij', 'get_vector', 'id', 'is_disordered', 'level', 'mass', 'name', 'occupancy', 'parent', 'serial_number', 'set_altloc', 'set_anisou', 'set_bfactor', 'set_coord', 'set_occupancy', 'set_parent', 'set_serial_number', 'set_sigatm', 'set_siguij', 'sigatm_array', 'siguij_array', 'transform', 'xtra']\n"
       ]
      }
     ],
     "prompt_number": 105
    },
    {
     "cell_type": "code",
     "collapsed": false,
     "input": [
      "print(atom.parent)\n",
      "print(atom.fullname)"
     ],
     "language": "python",
     "metadata": {},
     "outputs": [
      {
       "output_type": "stream",
       "stream": "stdout",
       "text": [
        "<Residue VAL het=  resseq=1 icode= >\n",
        " CG2\n"
       ]
      }
     ],
     "prompt_number": 166
    },
    {
     "cell_type": "code",
     "collapsed": false,
     "input": [
      "print(\"\\nReturns X, Y, Z coordinates : {}\\n\".format(atom.get_coord()))"
     ],
     "language": "python",
     "metadata": {},
     "outputs": [
      {
       "output_type": "stream",
       "stream": "stdout",
       "text": [
        "\n",
        "Returns X, Y, Z coordinates : [1, 2, 3]\n",
        "\n"
       ]
      }
     ],
     "prompt_number": 168
    },
    {
     "cell_type": "code",
     "collapsed": false,
     "input": [
      "print(atom.get_occupancy())\n",
      "print(atom.get_full_id())"
     ],
     "language": "python",
     "metadata": {},
     "outputs": [
      {
       "output_type": "stream",
       "stream": "stdout",
       "text": [
        "1.0\n",
        "('3hhb', 0, 'A', (' ', 1, ' '), ('CG2', ' '))\n"
       ]
      }
     ],
     "prompt_number": 167
    },
    {
     "cell_type": "code",
     "collapsed": false,
     "input": [
      "print(atom.mass)"
     ],
     "language": "python",
     "metadata": {},
     "outputs": [
      {
       "output_type": "stream",
       "stream": "stdout",
       "text": [
        "14.0067\n"
       ]
      }
     ],
     "prompt_number": 110
    },
    {
     "cell_type": "markdown",
     "metadata": {},
     "source": [
      "Not only we can read values from the PDB file, but we can also update indivual entries using the exposed methods. An example is shown below."
     ]
    },
    {
     "cell_type": "code",
     "collapsed": false,
     "input": [
      "atom.parent = 'ARG'\n",
      "print(atom.get_parent())"
     ],
     "language": "python",
     "metadata": {},
     "outputs": [
      {
       "output_type": "stream",
       "stream": "stdout",
       "text": [
        "ARG\n"
       ]
      }
     ],
     "prompt_number": 123
    },
    {
     "cell_type": "code",
     "collapsed": false,
     "input": [
      "atom.set_coord([1,2,3])\n",
      "print(atom.coord)"
     ],
     "language": "python",
     "metadata": {},
     "outputs": [
      {
       "output_type": "stream",
       "stream": "stdout",
       "text": [
        "[1, 2, 3]\n"
       ]
      }
     ],
     "prompt_number": 136
    },
    {
     "cell_type": "markdown",
     "metadata": {},
     "source": [
      "## Examples\n",
      "\n",
      "### Calculating Center of Mass of Protein\n",
      "\n",
      "\n",
      "The center of mass of protein is simply calculated by the formula $(x_o, y_o, z_o) = \\frac{\\sum{((m_i \\cdot (x_i+y_i+z_i))}}{\\sum{m_i}}$. The masses are obtained from the PDB file. A decision however is to be made whether we want to include the HETATOM in our calculation or not. A flag for that can also been specified (not implemented)."
     ]
    },
    {
     "cell_type": "code",
     "collapsed": false,
     "input": [
      "# -*- coding: utf-8 -*-\n",
      "#!usr/bin/python3\n",
      "\n",
      "# p_centerofmass.py\n",
      "\n",
      "\"\"\" Compute the center of mass of the protein structure based on\n",
      "the information obtained from reading the PDB file of the target protein.\n",
      "\"\"\"\n",
      "\n",
      "__AUTHOR__ = 'Vivek Rai'\n",
      "__DATE__ = '20 May 2014'\n",
      "\n",
      "from sys import stdin\n",
      "import urllib.request\n",
      "from os import path\n",
      "from Bio.PDB.PDBParser import PDBParser\n",
      "import numpy as np\n",
      "\n",
      "PDBE_EBI_URL = 'http://www.ebi.ac.uk/pdbe-srv/view/files/'\n",
      "\n",
      "def center_of_mass(pdbfile):\n",
      "    \"\"\" Calculates the center of the mass of given input protein data file.\n",
      "\n",
      "    Returns\n",
      "    -------\n",
      "    list\n",
      "        [x, y, z] coordinates.\n",
      "    \"\"\"\n",
      "\n",
      "    with open(pdbfile, 'r') as f:\n",
      "        parser = PDBParser(PERMISSIVE=True)\n",
      "        structure = parser.get_structure(pdbfile, f)\n",
      "\n",
      "        total_atoms_mass = []\n",
      "        for atoms in structure.get_atoms():\n",
      "            total_atoms_mass.append([atoms.coord, atoms.mass])\n",
      "\n",
      "        num_atoms = len(total_atoms_mass)\n",
      "\n",
      "        # Total mass of the atoms\n",
      "        total_mass = sum([total_atoms_mass[i][1] for i in range(num_atoms)])\n",
      "\n",
      "        center_of_mass = [sum([\n",
      "                               total_atoms_mass[i][0][j] * total_atoms_mass[i][1]\n",
      "                               for i in range(num_atoms)\n",
      "                               ])\n",
      "                          for j in range(3)]\n",
      "\n",
      "        return np.array(center_of_mass) / total_mass\n",
      "\n",
      "\n",
      "def main():\n",
      "    pdbfile = input('Enter the PDB ID (for eg, 4hhb.ent) ').strip()\n",
      "    if len(pdbfile) == 0:\n",
      "        pdbfile = '3hhb.ent'\n",
      "\n",
      "    result = None\n",
      "    \n",
      "    if not path.exists(pdbfile):\n",
      "        # PDB files are downloaded from PDBe.org database if not found.\n",
      "        # See references.\n",
      "        print('Downloading ...')\n",
      "        try:\n",
      "            url = '{0}{1}'.format(PDBE_EBI_URL, pdbfile)\n",
      "            print(url)\n",
      "            urllib.request.urlretrieve(url, pdbfile)\n",
      "        except:\n",
      "            print(\"Cannot open url for {}\\n\".format(pdbfile))\n",
      "            return\n",
      "    \n",
      "    print(center_of_mass(pdbfile))\n",
      "\n",
      "if __name__ == '__main__':\n",
      "    main()\n"
     ],
     "language": "python",
     "metadata": {},
     "outputs": [
      {
       "name": "stdout",
       "output_type": "stream",
       "stream": "stdout",
       "text": [
        "Enter the PDB ID (for eg, 4hhb.ent) \n"
       ]
      },
      {
       "output_type": "stream",
       "stream": "stdout",
       "text": [
        "[ 0.14764612 -0.48236171 -0.01161772]\n"
       ]
      }
     ],
     "prompt_number": 18
    },
    {
     "cell_type": "code",
     "collapsed": false,
     "input": [],
     "language": "python",
     "metadata": {},
     "outputs": []
    }
   ],
   "metadata": {}
  }
 ]
}