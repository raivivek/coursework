{
 "metadata": {
  "name": ""
 },
 "nbformat": 3,
 "nbformat_minor": 0,
 "worksheets": [
  {
   "cells": [
    {
     "cell_type": "code",
     "collapsed": false,
     "input": [
      "from IPython.display import Image, HTML, display_html, display_javascript, display_png, display_pretty, display_jpeg, YouTubeVideo"
     ],
     "language": "python",
     "metadata": {},
     "outputs": [],
     "prompt_number": 1
    },
    {
     "cell_type": "markdown",
     "metadata": {},
     "source": [
      "A **Protein Data Bank (PDB)** is a repository for three dimensional structural data of large biological molecules such as proteins and nucleic acids, hosted at [Protein Data Bank](https://www.pdb.org). The data, typically obtained by [X-ray crystallography](http://en.wikipedia.org/wiki/X-ray_crystallography) or NMR spectroscopy and submitted by biologists and biochemists from around the world, are freely accessible on the Internet via the websites of its member organisations (PDBe (Europe), PDBj (Japan), and RCSB \n",
      "(USA)). The PDB is overseen by an organization called the Worldwide Protein Data Bank, [wwPDB](http://en.wikipedia.org/wiki/Worldwide_Protein_Data_Bank) which was formed in 2003."
     ]
    },
    {
     "cell_type": "code",
     "collapsed": false,
     "input": [
      "HTML('<iframe src=http://www.ebi.ac.uk/pdbe/searchResults.html?display=both&term=hemoglobin height=400 width=1050></iframe>')"
     ],
     "language": "python",
     "metadata": {},
     "outputs": [
      {
       "html": [
        "<iframe src=http://www.ebi.ac.uk/pdbe/searchResults.html?display=both&term=hemoglobin height=400 width=1050></iframe>"
       ],
       "metadata": {},
       "output_type": "pyout",
       "prompt_number": 22,
       "text": [
        "<IPython.core.display.HTML at 0xafb78c2c>"
       ]
      }
     ],
     "prompt_number": 22
    },
    {
     "cell_type": "raw",
     "metadata": {},
     "source": [
      "The frame shows the website of PDBe (https://pdbe.org) with a query for 'Hemoglobin' proteins which returns a total of 791 results. Each entry in unique with a 5 letter identifier and has several options describing the paper in which the structure was published, the source organism, determination technique, possible nucleic acid information and information whether the strucutre contain any associated ligands. The resolution for strucutre is also mentioned along with download links for PDB file."
     ]
    },
    {
     "cell_type": "code",
     "collapsed": false,
     "input": [
      "YouTubeVideo('arO8EgsKvo8',height=400, width=500)\n"
     ],
     "language": "python",
     "metadata": {},
     "outputs": [
      {
       "html": [
        "\n",
        "        <iframe\n",
        "            width=\"500\"\n",
        "            height=400\"\n",
        "            src=\"https://www.youtube.com/embed/arO8EgsKvo8\"\n",
        "            frameborder=\"0\"\n",
        "            allowfullscreen\n",
        "        ></iframe>\n",
        "        "
       ],
       "metadata": {},
       "output_type": "pyout",
       "prompt_number": 6,
       "text": [
        "<IPython.lib.display.YouTubeVideo at 0xafbe008c>"
       ]
      }
     ],
     "prompt_number": 6
    },
    {
     "cell_type": "raw",
     "metadata": {},
     "source": [
      "The video provides an excellent introduction to formation of wwPDB and how the data is curated and managed by the consortium for available to scientists and students throughout the world."
     ]
    },
    {
     "cell_type": "heading",
     "level": 2,
     "metadata": {},
     "source": [
      "In the next few chapters, we wil analyze in detail the information contained within these files and how they can be parsed manuall"
     ]
    },
    {
     "cell_type": "markdown",
     "metadata": {},
     "source": [
      "# References\n",
      "1. http://en.wikipedia.org/wiki/Protein_Data_Bank\n",
      "2. https://pdbe.org\n",
      "3. https://http://www.rcsb.org/pdb/101"
     ]
    },
    {
     "cell_type": "code",
     "collapsed": false,
     "input": [],
     "language": "python",
     "metadata": {},
     "outputs": []
    }
   ],
   "metadata": {}
  }
 ]
}